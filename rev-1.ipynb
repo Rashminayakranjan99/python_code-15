{
 "cells": [
  {
   "cell_type": "code",
   "execution_count": 1,
   "id": "996f1f61-42fc-42c1-9b26-afdb82ee6565",
   "metadata": {},
   "outputs": [
    {
     "name": "stdout",
     "output_type": "stream",
     "text": [
      "hii i'm looking for a job this is life\n"
     ]
    }
   ],
   "source": [
    "print(\"hii i'm looking for a job this is life\")"
   ]
  },
  {
   "cell_type": "code",
   "execution_count": null,
   "id": "64efbbf7-8858-42bc-ae26-c2241faea4fe",
   "metadata": {},
   "outputs": [],
   "source": []
  }
 ],
 "metadata": {
  "kernelspec": {
   "display_name": "Python 3 (ipykernel)",
   "language": "python",
   "name": "python3"
  },
  "language_info": {
   "codemirror_mode": {
    "name": "ipython",
    "version": 3
   },
   "file_extension": ".py",
   "mimetype": "text/x-python",
   "name": "python",
   "nbconvert_exporter": "python",
   "pygments_lexer": "ipython3",
   "version": "3.12.7"
  }
 },
 "nbformat": 4,
 "nbformat_minor": 5
}
